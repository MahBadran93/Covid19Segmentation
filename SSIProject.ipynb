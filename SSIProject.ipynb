{
  "nbformat": 4,
  "nbformat_minor": 0,
  "metadata": {
    "colab": {
      "name": "SSIProject.ipynb",
      "provenance": [],
      "collapsed_sections": [],
      "toc_visible": true
    },
    "kernelspec": {
      "name": "python3",
      "display_name": "Python 3"
    },
    "accelerator": "GPU"
  },
  "cells": [
    {
      "cell_type": "markdown",
      "metadata": {
        "id": "kK1b1GxXALLI",
        "colab_type": "text"
      },
      "source": [
        "## Packages \n"
      ]
    },
    {
      "cell_type": "code",
      "metadata": {
        "id": "e0Y9yxsDAGPt",
        "colab_type": "code",
        "colab": {}
      },
      "source": [
        "import os\n",
        "import numpy as np\n",
        "import matplotlib.pyplot as plt \n",
        "import glob\n",
        "import nibabel as nib\n",
        "from skimage.io import imsave\n",
        "from skimage.transform import resize\n",
        "from sklearn.preprocessing import normalize\n",
        "import keras\n",
        "from tensorflow.keras import layers\n",
        "import tensorflow as tf\n",
        "import numpy as np\n",
        "from tensorflow import keras\n",
        "from tensorflow.keras import layers\n",
        "from tqdm import tqdm\n",
        "from skimage.io import imread, imshow\n",
        "from sklearn.model_selection import train_test_split\n",
        "from keras.callbacks import  ModelCheckpoint\n",
        "import matplotlib.pyplot as plt\n",
        "\n",
        "%matplotlib inline\n",
        "\n",
        "!pip install segmentation_models\n",
        "\n",
        "import segmentation_models as sm\n",
        "\n",
        "\n",
        "!python -m pip install -U efficientnet"
      ],
      "execution_count": 0,
      "outputs": []
    },
    {
      "cell_type": "markdown",
      "metadata": {
        "id": "_pFuiKn1HGMs",
        "colab_type": "text"
      },
      "source": [
        "## Download The Data "
      ]
    },
    {
      "cell_type": "code",
      "metadata": {
        "id": "E2mqmJbfHF5X",
        "colab_type": "code",
        "colab": {}
      },
      "source": [
        "\n",
        "#Download the dataset\n",
        "!wget https://zenodo.org/record/3757476/files/COVID-19-CT-Seg_20cases.zip?download=1\n",
        "!wget https://zenodo.org/record/3757476/files/Lung_and_Infection_Mask.zip?download=1\n",
        "\n",
        "# Rename the zip files to images and masks, it will be save in the content colab directory \n",
        "!mv COVID-19-CT-Seg_20cases.zip?download=1 images.zip\n",
        "!mv Lung_and_Infection_Mask.zip?download=1 masks.zip\n",
        "\n",
        "# Extract the two zip files to its nifti files\n",
        "!unzip -uq \"images.zip\" -d \"images\"\n",
        "!unzip -uq \"masks.zip\" -d \"masks\"\n",
        "\n",
        "\n",
        "# Create temporal Directory 'DataSet' to save the images(png) and masks(png) in google server   \n",
        "!mkdir DataSet\n",
        "!mkdir DataSet/images \n",
        "!mkdir DataSet/masks\n"
      ],
      "execution_count": 0,
      "outputs": []
    },
    {
      "cell_type": "markdown",
      "metadata": {
        "id": "53Qmy2Esks5k",
        "colab_type": "text"
      },
      "source": [
        "## Load & Preprocess Data"
      ]
    },
    {
      "cell_type": "code",
      "metadata": {
        "id": "NaOlGz_weBoW",
        "colab_type": "code",
        "colab": {}
      },
      "source": [
        "\n",
        "#=================================================================\n",
        "# Copy DataLoader.py file to temporary colab server to be able to import it \n",
        "! cp \"drive/My Drive/Project/DataLoader.py\" '.'\n",
        "\n",
        "#Import the file \n",
        "from importlib import reload\n",
        "import DataLoader as ld\n",
        "ld = reload(ld)\n",
        "\n",
        "# call nifToPng function which extract all the nifti files for images and masks and\n",
        "# apply preprocessing then save them in DataSet in the temporal google servers \n",
        "ld.nifToPng('images','masks');"
      ],
      "execution_count": 0,
      "outputs": []
    },
    {
      "cell_type": "markdown",
      "metadata": {
        "id": "zhC5-_7LfKfd",
        "colab_type": "text"
      },
      "source": [
        "## Copy Data To Drive.\n",
        "Data originaly is saved to temporal colab server not drive. \n",
        "then by running this code we copy it to drive to store it permenantly"
      ]
    },
    {
      "cell_type": "code",
      "metadata": {
        "id": "HhE8eECZfKBp",
        "colab_type": "code",
        "colab": {}
      },
      "source": [
        "# Do this if there is no data in drive \n",
        "#!mkdir 'drive/My Drive/Project/DataSet'\n",
        "!cp -r 'DataSet/' 'drive/My Drive/Project'\n",
        "\n",
        "# check number of images and masks  in colab and drive \n",
        "print(len(os.listdir('drive/My Drive/Project/DataSet/images')))\n",
        "print(len(os.listdir('drive/My Drive/Project/DataSet/masks')))\n",
        "print(len(os.listdir('DataSet/masks')))\n",
        "print(len(os.listdir('DataSet/images')))\n"
      ],
      "execution_count": 0,
      "outputs": []
    },
    {
      "cell_type": "markdown",
      "metadata": {
        "id": "EzvjehemB8fM",
        "colab_type": "text"
      },
      "source": [
        "## Copy Data From Drive to Temporal colab google server. \n",
        "do this step if the temporal session of colab ends and the data is deleted"
      ]
    },
    {
      "cell_type": "code",
      "metadata": {
        "id": "8xAS3VOJB8Ip",
        "colab_type": "code",
        "colab": {}
      },
      "source": [
        "# when the session ends, all the data on colab server will be deleted. So we get the data from\n",
        "# the saved dataset in colab.  \n",
        "# To Copy data from drive to colab it takes som much time so  zip the folder in drive then copy it\n",
        "# to colab then unzip it \n",
        "\n",
        "!cp -r 'drive/My Drive/Project/Dataset.zip' '.'\n",
        "# unzip the file, change the file name to whatever the zip file name\n",
        "!unzip -uq \"Dataset.zip\" -d '.'\n",
        "\n",
        "\n"
      ],
      "execution_count": 0,
      "outputs": []
    },
    {
      "cell_type": "markdown",
      "metadata": {
        "id": "txTpjx4Ai2ke",
        "colab_type": "text"
      },
      "source": [
        "## **Train, Test, Validation** "
      ]
    },
    {
      "cell_type": "code",
      "metadata": {
        "id": "CIWeX7YHi2RG",
        "colab_type": "code",
        "colab": {}
      },
      "source": [
        "# Call the splitData function which works on the \n",
        "# temporal google server where it is faster \n",
        "#! cp \"drive/My Drive/Project/DataLoader.py\" '.'\n",
        "X_train, X_tset, Y_train, Y_test, X_, X_val, Y_, Y_val,X = ld.splitData()"
      ],
      "execution_count": 0,
      "outputs": []
    },
    {
      "cell_type": "markdown",
      "metadata": {
        "id": "lF2FahRfDMJL",
        "colab_type": "text"
      },
      "source": [
        "\n",
        "## **Build The Network**"
      ]
    },
    {
      "cell_type": "code",
      "metadata": {
        "id": "aGb4p3ecDLka",
        "colab_type": "code",
        "colab": {}
      },
      "source": [
        "# Copy Model.py file from drive to colab server \n",
        "! cp \"drive/My Drive/Project/Model.py\" '.'\n",
        "\n",
        "# Import the Model file , we added the reload package to update the changes auto from drive to colab \n",
        "from importlib import reload\n",
        "import Model as mdl\n",
        "mdl = reload(mdl)\n",
        "\n",
        "# Buid network, X is the input tensor\n",
        "mdl.Network(X)\n",
        "\n",
        "\n"
      ],
      "execution_count": 0,
      "outputs": []
    },
    {
      "cell_type": "markdown",
      "metadata": {
        "id": "cEfgOJvdyAx1",
        "colab_type": "text"
      },
      "source": [
        "## **Fit The Model**\n"
      ]
    },
    {
      "cell_type": "code",
      "metadata": {
        "id": "XnrfM29XyAVg",
        "colab_type": "code",
        "colab": {
          "base_uri": "https://localhost:8080/",
          "height": 766
        },
        "outputId": "e8094f27-2644-436c-de95-af4473203fbb"
      },
      "source": [
        "# Training\n",
        "history, model = mdl.Fit(X_train, Y_train, X_val, Y_val)\n"
      ],
      "execution_count": 85,
      "outputs": [
        {
          "output_type": "stream",
          "text": [
            "Train on 2816 samples, validate on 352 samples\n",
            "Epoch 1/20\n",
            "2816/2816 [==============================] - 155s 55ms/step - loss: 0.8504 - iou_score: 0.2807 - val_loss: 0.7313 - val_iou_score: 0.3148\n",
            "Epoch 2/20\n",
            "2816/2816 [==============================] - 59s 21ms/step - loss: 0.4752 - iou_score: 0.4896 - val_loss: 0.4461 - val_iou_score: 0.5063\n",
            "Epoch 3/20\n",
            "2816/2816 [==============================] - 59s 21ms/step - loss: 0.3400 - iou_score: 0.6005 - val_loss: 0.3160 - val_iou_score: 0.6188\n",
            "Epoch 4/20\n",
            "2816/2816 [==============================] - 59s 21ms/step - loss: 0.2437 - iou_score: 0.6848 - val_loss: 0.2283 - val_iou_score: 0.6977\n",
            "Epoch 5/20\n",
            "2816/2816 [==============================] - 59s 21ms/step - loss: 0.1887 - iou_score: 0.7402 - val_loss: 0.1869 - val_iou_score: 0.7407\n",
            "Epoch 6/20\n",
            "2816/2816 [==============================] - 58s 21ms/step - loss: 0.1658 - iou_score: 0.7661 - val_loss: 0.1592 - val_iou_score: 0.7717\n",
            "Epoch 7/20\n",
            "2816/2816 [==============================] - 58s 21ms/step - loss: 0.1463 - iou_score: 0.7886 - val_loss: 0.1557 - val_iou_score: 0.7757\n",
            "Epoch 8/20\n",
            "2816/2816 [==============================] - 58s 21ms/step - loss: 0.1386 - iou_score: 0.7977 - val_loss: 0.1382 - val_iou_score: 0.7980\n",
            "Epoch 9/20\n",
            "2816/2816 [==============================] - 58s 21ms/step - loss: 0.1238 - iou_score: 0.8159 - val_loss: 0.1261 - val_iou_score: 0.8127\n",
            "Epoch 10/20\n",
            "2816/2816 [==============================] - 59s 21ms/step - loss: 0.1210 - iou_score: 0.8208 - val_loss: 0.1433 - val_iou_score: 0.7930\n",
            "Epoch 11/20\n",
            "2816/2816 [==============================] - 58s 21ms/step - loss: 0.1135 - iou_score: 0.8298 - val_loss: 0.1201 - val_iou_score: 0.8214\n",
            "Epoch 12/20\n",
            "2816/2816 [==============================] - 58s 21ms/step - loss: 0.1061 - iou_score: 0.8393 - val_loss: 0.1157 - val_iou_score: 0.8264\n",
            "Epoch 13/20\n",
            "2816/2816 [==============================] - 58s 21ms/step - loss: 0.1042 - iou_score: 0.8422 - val_loss: 0.1156 - val_iou_score: 0.8269\n",
            "Epoch 14/20\n",
            "2816/2816 [==============================] - 58s 21ms/step - loss: 0.0993 - iou_score: 0.8484 - val_loss: 0.1150 - val_iou_score: 0.8284\n",
            "Epoch 15/20\n",
            "2816/2816 [==============================] - 58s 21ms/step - loss: 0.0985 - iou_score: 0.8504 - val_loss: 0.1166 - val_iou_score: 0.8264\n",
            "Epoch 16/20\n",
            "2816/2816 [==============================] - 58s 21ms/step - loss: 0.0974 - iou_score: 0.8517 - val_loss: 0.1080 - val_iou_score: 0.8372\n",
            "Epoch 17/20\n",
            "2816/2816 [==============================] - 58s 21ms/step - loss: 0.0943 - iou_score: 0.8559 - val_loss: 0.1092 - val_iou_score: 0.8359\n",
            "Epoch 18/20\n",
            "2816/2816 [==============================] - 58s 20ms/step - loss: 0.0907 - iou_score: 0.8608 - val_loss: 0.1109 - val_iou_score: 0.8346\n",
            "Epoch 19/20\n",
            "2816/2816 [==============================] - 58s 21ms/step - loss: 0.0873 - iou_score: 0.8653 - val_loss: 0.1116 - val_iou_score: 0.8351\n",
            "Epoch 20/20\n",
            "2816/2816 [==============================] - 58s 21ms/step - loss: 0.0866 - iou_score: 0.8663 - val_loss: 0.1044 - val_iou_score: 0.8428\n",
            "Training done.\n"
          ],
          "name": "stdout"
        }
      ]
    },
    {
      "cell_type": "markdown",
      "metadata": {
        "id": "uW-t8KOco3dd",
        "colab_type": "text"
      },
      "source": [
        "## **Metrices**\n"
      ]
    },
    {
      "cell_type": "code",
      "metadata": {
        "id": "0fwAAiOEo4C8",
        "colab_type": "code",
        "outputId": "0ef1365c-7f2c-4cfe-e8ac-cd6c007d61d4",
        "colab": {
          "base_uri": "https://localhost:8080/",
          "height": 225
        }
      },
      "source": [
        "# for item in historyresnet.history:\n",
        "#   print(item,'-->',historyresnet.history[item])\n",
        "plt.figure(figsize=(30, 5), num = 'Metrics')\n",
        "plt.subplot(121)\n",
        "plt.plot(history.history['iou_score'])\n",
        "plt.plot(history.history['val_iou_score'])\n",
        "plt.title('Model accuracy')\n",
        "plt.ylabel('precision')\n",
        "plt.xlabel('Epoch')\n",
        "plt.legend(['Train', 'val'], loc='upper left')\n",
        "\n",
        "# Plot training & validation loss values\n",
        "plt.subplot(122)\n",
        "plt.plot(history.history['loss'])\n",
        "plt.plot(history.history['val_loss'])\n",
        "plt.title('Model loss')\n",
        "plt.ylabel('Loss')\n",
        "plt.xlabel('Epoch')\n",
        "plt.legend(['Train', 'val'], loc='upper left')\n",
        "\n",
        "print(history.history['iou_score'])"
      ],
      "execution_count": 88,
      "outputs": [
        {
          "output_type": "stream",
          "text": [
            "[0.28071252, 0.48957768, 0.6005277, 0.68475336, 0.74016243, 0.7661274, 0.78857267, 0.79769367, 0.81593823, 0.8208334, 0.8297775, 0.8392576, 0.8422287, 0.84839684, 0.8504116, 0.85170686, 0.85590804, 0.8607975, 0.8652891, 0.86626434]\n"
          ],
          "name": "stdout"
        },
        {
          "output_type": "display_data",
          "data": {
            "image/png": "[encoded data removed]",
            "text/plain": [
              "<Figure size 2160x360 with 2 Axes>"
            ]
          },
          "metadata": {
            "tags": [],
            "needs_background": "light"
          }
        }
      ]
    },
    {
      "cell_type": "markdown",
      "metadata": {
        "id": "WNjygU4byfwv",
        "colab_type": "text"
      },
      "source": [
        "## **Prediction**"
      ]
    },
    {
      "cell_type": "code",
      "metadata": {
        "id": "t1bZJc7Byfbn",
        "colab_type": "code",
        "outputId": "3e750f82-875c-4cfc-f24b-66af3e677f93",
        "colab": {
          "base_uri": "https://localhost:8080/",
          "height": 634
        }
      },
      "source": [
        "pred= model.predict(X_tset)\n",
        "print(np.unique(pred))\n",
        "\n",
        "print(pred.shape)\n",
        "\n",
        "# pred= np.sum(pred,axis=3\n",
        "print(np.unique(Y_test))\n",
        "plt.subplot('221')\n",
        "plt.imshow(pred[50,:,:,2])\n",
        "plt.subplot('222')\n",
        "plt.imshow(X_tset[50,:,:,0])\n",
        "plt.subplot('223')\n",
        "plt.imshow(pred[50,:,:,1])\n",
        "plt.subplot('224')\n",
        "plt.imshow(pred[50,:,:,3])\n",
        "\n",
        "print(Y_test.shape)\n",
        "print(X_tset.shape)\n",
        "\n",
        "print(model.summary())"
      ],
      "execution_count": 87,
      "outputs": [
        {
          "output_type": "stream",
          "text": [
            "[3.5936269e-17 4.3107267e-17 4.8074394e-17 ... 9.9999976e-01 9.9999988e-01\n",
            " 1.0000000e+00]\n",
            "(352, 128, 128, 4)\n",
            "[False  True]\n",
            "(352, 128, 128, 4)\n",
            "(352, 128, 128, 1)\n",
            "Model: \"model_15\"\n",
            "_________________________________________________________________\n",
            "Layer (type)                 Output Shape              Param #   \n",
            "=================================================================\n",
            "input_32 (InputLayer)        (None, None, None, 1)     0         \n",
            "_________________________________________________________________\n",
            "conv2d_15 (Conv2D)           (None, None, None, 3)     6         \n",
            "_________________________________________________________________\n",
            "model_15 (Model)             (None, None, None, 4)     26379012  \n",
            "=================================================================\n",
            "Total params: 26,379,018\n",
            "Trainable params: 26,147,978\n",
            "Non-trainable params: 231,040\n",
            "_________________________________________________________________\n",
            "None\n"
          ],
          "name": "stdout"
        },
        {
          "output_type": "display_data",
          "data": {
            "image/png": "[encoded data removed]",
            "text/plain": [
              "<Figure size 432x288 with 4 Axes>"
            ]
          },
          "metadata": {
            "tags": [],
            "needs_background": "light"
          }
        }
      ]
    }
  ]
}