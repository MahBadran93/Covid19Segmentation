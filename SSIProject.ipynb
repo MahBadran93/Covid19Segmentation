{
  "nbformat": 4,
  "nbformat_minor": 0,
  "metadata": {
    "colab": {
      "name": "SSIProject.ipynb",
      "provenance": [],
      "collapsed_sections": [
        "_pFuiKn1HGMs",
        "53Qmy2Esks5k",
        "zhC5-_7LfKfd",
        "EzvjehemB8fM",
        "txTpjx4Ai2ke"
      ],
      "toc_visible": true
    },
    "kernelspec": {
      "name": "python3",
      "display_name": "Python 3"
    },
    "accelerator": "GPU"
  },
  "cells": [
    {
      "cell_type": "markdown",
      "metadata": {
        "id": "kK1b1GxXALLI",
        "colab_type": "text"
      },
      "source": [
        "## Packages \n"
      ]
    },
    {
      "cell_type": "code",
      "metadata": {
        "id": "e0Y9yxsDAGPt",
        "colab_type": "code",
        "colab": {}
      },
      "source": [
        "import os\n",
        "import numpy as np\n",
        "import matplotlib.pyplot as plt \n",
        "import glob\n",
        "import nibabel as nib\n",
        "from skimage.io import imsave\n",
        "from skimage.transform import resize\n",
        "from sklearn.preprocessing import normalize\n",
        "from tensorflow.keras import layers\n",
        "import tensorflow as tf\n",
        "import numpy as np\n",
        "from tensorflow import keras\n",
        "from tensorflow.keras import layers\n",
        "from tqdm import tqdm\n",
        "from skimage.io import imread, imshow\n",
        "from sklearn.model_selection import train_test_split\n",
        "from keras.callbacks import  ModelCheckpoint\n",
        "import matplotlib.pyplot as plt\n",
        "%matplotlib inline\n",
        "!pip install --upgrade tensorflow\n",
        "!pip install segmentation_models\n",
        "import segmentation_models as sm\n",
        "\n",
        "!pip install \"tensorflow_hub>=0.6.0\"\n",
        "import tensorflow_hub as tfhub\n",
        "\n",
        "!python -m pip install -U efficientnet\n",
        "\n"
      ],
      "execution_count": 0,
      "outputs": []
    },
    {
      "cell_type": "code",
      "metadata": {
        "id": "eqghkgnzPzkl",
        "colab_type": "code",
        "colab": {}
      },
      "source": [
        "from google.colab import drive\n",
        "drive.mount('/content/drive')"
      ],
      "execution_count": 0,
      "outputs": []
    },
    {
      "cell_type": "markdown",
      "metadata": {
        "id": "_pFuiKn1HGMs",
        "colab_type": "text"
      },
      "source": [
        "## Download The Data "
      ]
    },
    {
      "cell_type": "code",
      "metadata": {
        "id": "E2mqmJbfHF5X",
        "colab_type": "code",
        "colab": {}
      },
      "source": [
        "\n",
        "#Download the dataset\n",
        "!wget https://zenodo.org/record/3757476/files/COVID-19-CT-Seg_20cases.zip?download=1\n",
        "!wget https://zenodo.org/record/3757476/files/Lung_and_Infection_Mask.zip?download=1\n",
        "\n",
        "# Rename the zip files to images and masks, it will be save in the content colab directory \n",
        "!mv COVID-19-CT-Seg_20cases.zip?download=1 images.zip\n",
        "!mv Lung_and_Infection_Mask.zip?download=1 masks.zip\n",
        "\n",
        "# Extract the two zip files to its nifti files\n",
        "!unzip -uq \"images.zip\" -d \"images\"\n",
        "!unzip -uq \"masks.zip\" -d \"masks\"\n",
        "\n",
        "\n",
        "# Create temporal Directory 'DataSet' to save the images(png) and masks(png) in google server   \n",
        "!mkdir DataSet\n",
        "!mkdir DataSet/images \n",
        "!mkdir DataSet/masks\n"
      ],
      "execution_count": 0,
      "outputs": []
    },
    {
      "cell_type": "markdown",
      "metadata": {
        "id": "53Qmy2Esks5k",
        "colab_type": "text"
      },
      "source": [
        "## Load & Preprocess Data"
      ]
    },
    {
      "cell_type": "code",
      "metadata": {
        "id": "IU5dCMUJKFuc",
        "colab_type": "code",
        "colab": {}
      },
      "source": [
        "#=================================================================\n",
        "# Copy DataLoader.py file to temporary colab server to be able to import it \n",
        "! cp \"drive/My Drive/Project/DataLoader.py\" '.'\n",
        "! cp \"drive/My Drive/Project/function.py\" '.'\n",
        "! cp \"drive/My Drive/Project/DenseModel.py\" '.'\n",
        "\n",
        "\n",
        "\n",
        "\n",
        "#Import files, Dataloader, DenseModel, function \n",
        "from importlib import reload\n",
        "import DataLoader as ld\n",
        "from function import *\n",
        "import DenseModel \n",
        "ld = reload(ld)\n",
        "DenseModel= reload(DenseModel)\n",
        "#function = reload(function)\n",
        "\n",
        "\n"
      ],
      "execution_count": 0,
      "outputs": []
    },
    {
      "cell_type": "code",
      "metadata": {
        "id": "NaOlGz_weBoW",
        "colab_type": "code",
        "colab": {}
      },
      "source": [
        "\n",
        "# call nifToPng function which extract all the nifti files for images and masks and\n",
        "# apply preprocessing then save them in DataSet in the temporal google servers \n",
        "ld.nifToPng('images','masks');"
      ],
      "execution_count": 0,
      "outputs": []
    },
    {
      "cell_type": "markdown",
      "metadata": {
        "id": "zhC5-_7LfKfd",
        "colab_type": "text"
      },
      "source": [
        "## Copy Data To Drive.\n",
        "Data originaly is saved to temporal colab server not drive. \n",
        "then by running this code we copy it to drive to store it permenantly, run this process the first time you use the program then start moving it to colab whenever you need it  "
      ]
    },
    {
      "cell_type": "code",
      "metadata": {
        "id": "HhE8eECZfKBp",
        "colab_type": "code",
        "outputId": "000c7b0e-2752-4a63-a01f-ad2aac97f424",
        "colab": {
          "base_uri": "https://localhost:8080/",
          "height": 262
        }
      },
      "source": [
        "# Do this if there is no data in drive \n",
        "#!mkdir 'drive/My Drive/Project/DataSet'\n",
        "# !cp -r 'DataSet/' 'drive/My Drive/Project'\n",
        "\n",
        "# check number of images and masks  in colab and drive \n",
        "print(len(os.listdir('drive/My Drive/Project/DataSet/images')))\n",
        "print(len(os.listdir('drive/My Drive/Project/DataSet/masks')))\n",
        "print(len(os.listdir('DataSet/masks')))\n",
        "print(len(os.listdir('DataSet/images')))\n"
      ],
      "execution_count": 0,
      "outputs": [
        {
          "output_type": "stream",
          "text": [
            "3519\n",
            "3520\n"
          ],
          "name": "stdout"
        },
        {
          "output_type": "error",
          "ename": "FileNotFoundError",
          "evalue": "ignored",
          "traceback": [
            "\u001b[0;31m---------------------------------------------------------------------------\u001b[0m",
            "\u001b[0;31mFileNotFoundError\u001b[0m                         Traceback (most recent call last)",
            "\u001b[0;32m<ipython-input-6-968be41ed533>\u001b[0m in \u001b[0;36m<module>\u001b[0;34m()\u001b[0m\n\u001b[1;32m      6\u001b[0m \u001b[0mprint\u001b[0m\u001b[0;34m(\u001b[0m\u001b[0mlen\u001b[0m\u001b[0;34m(\u001b[0m\u001b[0mos\u001b[0m\u001b[0;34m.\u001b[0m\u001b[0mlistdir\u001b[0m\u001b[0;34m(\u001b[0m\u001b[0;34m'drive/My Drive/Project/DataSet/images'\u001b[0m\u001b[0;34m)\u001b[0m\u001b[0;34m)\u001b[0m\u001b[0;34m)\u001b[0m\u001b[0;34m\u001b[0m\u001b[0;34m\u001b[0m\u001b[0m\n\u001b[1;32m      7\u001b[0m \u001b[0mprint\u001b[0m\u001b[0;34m(\u001b[0m\u001b[0mlen\u001b[0m\u001b[0;34m(\u001b[0m\u001b[0mos\u001b[0m\u001b[0;34m.\u001b[0m\u001b[0mlistdir\u001b[0m\u001b[0;34m(\u001b[0m\u001b[0;34m'drive/My Drive/Project/DataSet/masks'\u001b[0m\u001b[0;34m)\u001b[0m\u001b[0;34m)\u001b[0m\u001b[0;34m)\u001b[0m\u001b[0;34m\u001b[0m\u001b[0;34m\u001b[0m\u001b[0m\n\u001b[0;32m----> 8\u001b[0;31m \u001b[0mprint\u001b[0m\u001b[0;34m(\u001b[0m\u001b[0mlen\u001b[0m\u001b[0;34m(\u001b[0m\u001b[0mos\u001b[0m\u001b[0;34m.\u001b[0m\u001b[0mlistdir\u001b[0m\u001b[0;34m(\u001b[0m\u001b[0;34m'DataSet/masks'\u001b[0m\u001b[0;34m)\u001b[0m\u001b[0;34m)\u001b[0m\u001b[0;34m)\u001b[0m\u001b[0;34m\u001b[0m\u001b[0;34m\u001b[0m\u001b[0m\n\u001b[0m\u001b[1;32m      9\u001b[0m \u001b[0mprint\u001b[0m\u001b[0;34m(\u001b[0m\u001b[0mlen\u001b[0m\u001b[0;34m(\u001b[0m\u001b[0mos\u001b[0m\u001b[0;34m.\u001b[0m\u001b[0mlistdir\u001b[0m\u001b[0;34m(\u001b[0m\u001b[0;34m'DataSet/images'\u001b[0m\u001b[0;34m)\u001b[0m\u001b[0;34m)\u001b[0m\u001b[0;34m)\u001b[0m\u001b[0;34m\u001b[0m\u001b[0;34m\u001b[0m\u001b[0m\n",
            "\u001b[0;31mFileNotFoundError\u001b[0m: [Errno 2] No such file or directory: 'DataSet/masks'"
          ]
        }
      ]
    },
    {
      "cell_type": "markdown",
      "metadata": {
        "id": "EzvjehemB8fM",
        "colab_type": "text"
      },
      "source": [
        "## Copy Data From Drive to Temporal colab google server. \n",
        "do this step if the temporal session of colab ends and the data is deleted"
      ]
    },
    {
      "cell_type": "code",
      "metadata": {
        "id": "8xAS3VOJB8Ip",
        "colab_type": "code",
        "colab": {}
      },
      "source": [
        "# when the session ends, all the data on colab server will be deleted. So we get the data from\n",
        "# the saved dataset in colab.  \n",
        "# To Copy data from drive to colab it takes som much time so  zip the folder in drive then copy it\n",
        "# to colab then unzip it \n",
        "\n",
        "!cp -r 'drive/My Drive/Project/Dataset.zip' '.'\n",
        "# unzip the file, change the file name to whatever the zip file name\n",
        "!unzip -uq \"Dataset.zip\" -d '.'\n",
        "\n",
        "\n"
      ],
      "execution_count": 0,
      "outputs": []
    },
    {
      "cell_type": "markdown",
      "metadata": {
        "id": "txTpjx4Ai2ke",
        "colab_type": "text"
      },
      "source": [
        "## **Train, Test, Validation** "
      ]
    },
    {
      "cell_type": "code",
      "metadata": {
        "id": "CIWeX7YHi2RG",
        "colab_type": "code",
        "colab": {}
      },
      "source": [
        "# Call the splitData function which works on the \n",
        "# temporal google server where it is faster \n",
        "#! cp \"drive/My Drive/Project/DataLoader.py\" '.'\n",
        "X_train, X_tset, Y_train, Y_test, X_, X_val, Y_, Y_val,X = ld.splitData()"
      ],
      "execution_count": 0,
      "outputs": []
    },
    {
      "cell_type": "markdown",
      "metadata": {
        "id": "12M3k6OW3Qvn",
        "colab_type": "text"
      },
      "source": [
        "##**Fully convolutional multi-scale residual DenseNets**"
      ]
    },
    {
      "cell_type": "code",
      "metadata": {
        "id": "ZKyQmhkh3SoS",
        "colab_type": "code",
        "colab": {}
      },
      "source": [
        "# Input & output \n",
        "IMG_Width  = 128\n",
        "IMG_Height = 128\n",
        "IMG_Channels = 1\n",
        "\n",
        "\n",
        "input=tf.keras.Input((IMG_Width,IMG_Height,IMG_Channels)) # this layer is in core layer of keras documentation\n",
        "model= DenseModel.dens_model(input)\n",
        "\n"
      ],
      "execution_count": 0,
      "outputs": []
    },
    {
      "cell_type": "code",
      "metadata": {
        "id": "cyIrv9BIZOOV",
        "colab_type": "code",
        "colab": {}
      },
      "source": [
        "# Fit the Dense Model \n",
        "Callbacks=[tf.keras.callbacks.ModelCheckpoint(\"drive/My Drive/Project/dens.h5\"\n",
        ",verbose=1,save_best_only=True)]\n",
        " \n",
        "history = model.fit(\n",
        "   x=X_train,\n",
        "   y=Y_train,\n",
        "   batch_size=16,\n",
        "   epochs=100,\n",
        "   validation_data=(X_val, Y_val)\n",
        ")\n",
        " \n",
        "model.save('drive/My Drive/Project/FinalDense.h5')\n",
        " \n",
        "np.save('drive/My Drive/Project/historyFinalDense.npy',history.history)"
      ],
      "execution_count": 0,
      "outputs": []
    },
    {
      "cell_type": "markdown",
      "metadata": {
        "id": "lF2FahRfDMJL",
        "colab_type": "text"
      },
      "source": [
        "\n",
        "## **Build Pretrained Models**"
      ]
    },
    {
      "cell_type": "code",
      "metadata": {
        "id": "aGb4p3ecDLka",
        "colab_type": "code",
        "colab": {}
      },
      "source": [
        "# Copy Model.py file from drive to colab server \n",
        "! cp \"drive/My Drive/Project/Model.py\" '.'\n",
        "\n",
        "# Import the Model file , we added the reload package to update the changes auto from drive to colab \n",
        "from importlib import reload\n",
        "import Model as mdl\n",
        "mdl = reload(mdl)\n",
        "\n",
        "# Buid network, X is the input tensor\n",
        "mdl.Network(X)\n",
        "\n",
        "\n"
      ],
      "execution_count": 0,
      "outputs": []
    },
    {
      "cell_type": "code",
      "metadata": {
        "id": "XnrfM29XyAVg",
        "colab_type": "code",
        "colab": {}
      },
      "source": [
        "# Fit The pretrained model\n",
        "history, model = mdl.Fit(X_train, Y_train, X_val, Y_val)\n"
      ],
      "execution_count": 0,
      "outputs": []
    },
    {
      "cell_type": "markdown",
      "metadata": {
        "id": "BgLMXlTjPX54",
        "colab_type": "text"
      },
      "source": [
        "## **Load an existing model & history**\n",
        "Do this step if you have existing model"
      ]
    },
    {
      "cell_type": "code",
      "metadata": {
        "id": "R4zs_C-BPYkr",
        "colab_type": "code",
        "colab": {}
      },
      "source": [
        "\n",
        "# Load PreTrainedModels\n",
        "#========================================================================================\n",
        "# Inception Net v2 , Dice loss, IOU metrices\n",
        "inceptionModel = tf.keras.models.load_model('drive/My Drive/Project/Models/inceptionresnetv2.h5',compile=False)\n",
        "optim = keras.optimizers.Adam(lr=1e-3)\n",
        "\n",
        "inceptionModel.compile(\n",
        "    optim,\n",
        "    loss=sm.losses.bce_dice_loss,\n",
        "    metrics=[sm.metrics.iou_score],\n",
        ")   \n",
        "historyinceptionModel = np.load(\"drive/My Drive/Project/Models/historyinceptionresnetv2.npy\",allow_pickle=True).item()\n",
        "#==============================================================================================\n",
        "# Basic uNet , Dice loss, IOU metrices\n",
        "basicUNETModel = tf.keras.models.load_model('drive/My Drive/Project/Models/u_net_basic1.h5',compile=False)\n",
        "optim = keras.optimizers.Adam(lr=1e-3)\n",
        "\n",
        "model.compile(\n",
        "    optim,\n",
        "    loss=sm.losses.bce_dice_loss,\n",
        "    metrics=[sm.metrics.iou_score],\n",
        ")   \n",
        "historybasicUNETModel = np.load(\"drive/My Drive/Project/Models/historyinceptionresnetv2.npy\",allow_pickle=True).item()\n",
        "#==============================================================================================\n",
        "# Mobile Net , Dice loss, IOU metrices\n",
        "mobileModel = tf.keras.models.load_model('drive/My Drive/Project/Models/mobilenetv2.h5',compile=False)\n",
        "optim = keras.optimizers.Adam(lr=1e-3)\n",
        "\n",
        "mobileModel.compile(\n",
        "    optim,\n",
        "    loss=sm.losses.bce_dice_loss,\n",
        "    metrics=[sm.metrics.iou_score],\n",
        ")   \n",
        "historymobileModel = np.load(\"drive/My Drive/Project/Models/historymobilenetv2.npy\",allow_pickle=True).item()\n",
        "#================================================================================================\n",
        "\n",
        "#====================================Main Dense Model===========================================\n",
        "\n",
        "# Load Final Dense model, Trained with CategoricalCrossentropy loss and Dice coef metrices , optimised with Adam\n",
        "model = tf.keras.models.load_model('drive/My Drive/Project/Models/FinalDense.h5',compile=False)\n",
        "optim = keras.optimizers.Adam(lr=1e-3)\n",
        "\n",
        "loss= tf.keras.losses.CategoricalCrossentropy(\n",
        "      from_logits=False,\n",
        "      label_smoothing=0,\n",
        "      reduction=\"auto\",\n",
        "      name=\"categorical_crossentropy\",\n",
        "  )\n",
        "\n",
        "model.compile(optim,loss=loss ,metrics=[sm.metrics.f1_score])\n",
        "\n",
        "model.summary()\n",
        "\n",
        "#History\n",
        "history = np.load(\"drive/My Drive/Project/Models/historyFinalDense.npy\",allow_pickle=True).item()"
      ],
      "execution_count": 0,
      "outputs": []
    },
    {
      "cell_type": "code",
      "metadata": {
        "id": "MokndEaNaBFH",
        "colab_type": "code",
        "colab": {}
      },
      "source": [
        ""
      ],
      "execution_count": 0,
      "outputs": []
    },
    {
      "cell_type": "markdown",
      "metadata": {
        "id": "uW-t8KOco3dd",
        "colab_type": "text"
      },
      "source": [
        "## **Metrices**\n"
      ]
    },
    {
      "cell_type": "code",
      "metadata": {
        "id": "0fwAAiOEo4C8",
        "colab_type": "code",
        "colab": {}
      },
      "source": [
        "\n",
        "! cp \"drive/My Drive/Project/Metrices.py\" '.'\n",
        "\n",
        "from importlib import reload\n",
        "import Metrices as met\n",
        "met = reload(met)\n",
        "print(history )\n",
        "# Plot Accuracy & Loss DICE(F1 score) \n",
        "met.showLossAccu(history)\n",
        "\n"
      ],
      "execution_count": 0,
      "outputs": []
    },
    {
      "cell_type": "markdown",
      "metadata": {
        "id": "WNjygU4byfwv",
        "colab_type": "text"
      },
      "source": [
        "## **Prediction & Metrices & Plots**"
      ]
    },
    {
      "cell_type": "code",
      "metadata": {
        "id": "eGSMBw7oD2Ge",
        "colab_type": "code",
        "colab": {}
      },
      "source": [
        "#========================= Evaluate ==============================================\n",
        "scoreDense =model.evaluate(X_tset,Y_test,batch_size=26)\n",
        "scoreMobile =mobileModel.evaluate(X_tset,Y_test,batch_size=26)\n",
        "scoreInception =inceptionModel.evaluate(X_tset,Y_test,batch_size=26)\n",
        "\n",
        "#=======================Find predections==========================================\n",
        "predDense= model.predict(X_tset)\n",
        "predMobile= mobileModel.predict(X_tset)\n",
        "predInception= inceptionModel.predict(X_tset)\n",
        "\n",
        "# merge the labels in last axis, test and predict from dense model \n",
        "pred_merge = np.argmax(predDense, axis = 3)\n",
        "test = np.argmax(Y_test, axis = 3)\n",
        "\n",
        "\n"
      ],
      "execution_count": 0,
      "outputs": []
    },
    {
      "cell_type": "code",
      "metadata": {
        "id": "EhdsbId4Dy6O",
        "colab_type": "code",
        "colab": {
          "base_uri": "https://localhost:8080/",
          "height": 143
        },
        "outputId": "9f657936-a89e-4fb1-cce4-83ff01e41b10"
      },
      "source": [
        "# ======================= Metrices & Statistics====================================\n",
        "\n",
        "# Dice Cof for mobile & Inception. ?? Ask difference between calling dice in compile and in standalone function \n",
        "cofMobile = met.dice_coef(Y_test,predMobile)\n",
        "cofInception = met.dice_coef(Y_test,predInception)\n",
        "\n",
        "# Jaccard(IOU), for Dense model ??\n",
        "iouDense = met.jc(Y_test,predDense)\n",
        "iouMobile = met.jc(Y_test,predInception)\n",
        "\n",
        "# Hausdorff Distance ??\n",
        "hdDense = met.Hausdorff(Y_test,predDense)\n",
        "hdMobile = met.Hausdorff(Y_test,predMobile)\n",
        "hdInception = met.Hausdorff(Y_test,predInception)\n",
        "\n",
        "\n",
        "# Pearsona & P-value, returns null ?????\n",
        "pDense = met.pearsonr_Corr(Y_test,predDense)\n",
        "\n",
        "# ................ Table Parameters..............................................\n",
        "\n",
        "# Import pandas library \n",
        "import pandas as pd \n",
        "  \n",
        "data = {'Dice':[scoreDense[1]*100,cofMobile*100,cofInception*100],\n",
        "        'IOU':[iouDense*100,scoreMobile[1]*100,scoreInception[1]*100],\n",
        "        'HD':[hdDense, hdMobile, hdInception],\n",
        "        'Pearsona':[pDense[0], pMobile[0], pIncep[0]], \n",
        "        'P-value':[pDense[1], pMobile[1], pIncep[1]],\n",
        "        'LR':[0.001, 0.00001, 0.001],\n",
        "        'Optimizer':['Adam', 'Adam', 'Adam'],\n",
        "        'Param':[model.count_params(),mobileModel.count_params(), inceptionModel.count_params() ]} \n",
        "# Create the pandas DataFrame \n",
        "df = pd.DataFrame(data,index =['DenseM', 'Mobile', 'Inception']) \n",
        "  \n",
        "# print dataframe. \n",
        "df \n"
      ],
      "execution_count": 193,
      "outputs": [
        {
          "output_type": "execute_result",
          "data": {
            "text/html": [
              "<div>\n",
              "<style scoped>\n",
              "    .dataframe tbody tr th:only-of-type {\n",
              "        vertical-align: middle;\n",
              "    }\n",
              "\n",
              "    .dataframe tbody tr th {\n",
              "        vertical-align: top;\n",
              "    }\n",
              "\n",
              "    .dataframe thead th {\n",
              "        text-align: right;\n",
              "    }\n",
              "</style>\n",
              "<table border=\"1\" class=\"dataframe\">\n",
              "  <thead>\n",
              "    <tr style=\"text-align: right;\">\n",
              "      <th></th>\n",
              "      <th>Dice</th>\n",
              "      <th>IOU</th>\n",
              "      <th>HD</th>\n",
              "      <th>Pearsona</th>\n",
              "      <th>P-value</th>\n",
              "      <th>LR</th>\n",
              "      <th>Optimizer</th>\n",
              "      <th>Param</th>\n",
              "    </tr>\n",
              "  </thead>\n",
              "  <tbody>\n",
              "    <tr>\n",
              "      <th>DenseM</th>\n",
              "      <td>89.947277</td>\n",
              "      <td>25.045190</td>\n",
              "      <td>3.0</td>\n",
              "      <td>NaN</td>\n",
              "      <td>NaN</td>\n",
              "      <td>0.00100</td>\n",
              "      <td>Adam</td>\n",
              "      <td>880500</td>\n",
              "    </tr>\n",
              "    <tr>\n",
              "      <th>Mobile</th>\n",
              "      <td>40.000000</td>\n",
              "      <td>84.967762</td>\n",
              "      <td>3.0</td>\n",
              "      <td>NaN</td>\n",
              "      <td>NaN</td>\n",
              "      <td>0.00001</td>\n",
              "      <td>Adam</td>\n",
              "      <td>8047882</td>\n",
              "    </tr>\n",
              "    <tr>\n",
              "      <th>Inception</th>\n",
              "      <td>39.995853</td>\n",
              "      <td>58.105737</td>\n",
              "      <td>3.0</td>\n",
              "      <td>NaN</td>\n",
              "      <td>NaN</td>\n",
              "      <td>0.00100</td>\n",
              "      <td>Adam</td>\n",
              "      <td>62061994</td>\n",
              "    </tr>\n",
              "  </tbody>\n",
              "</table>\n",
              "</div>"
            ],
            "text/plain": [
              "                Dice        IOU   HD  ...       LR  Optimizer     Param\n",
              "DenseM     89.947277  25.045190  3.0  ...  0.00100       Adam    880500\n",
              "Mobile     40.000000  84.967762  3.0  ...  0.00001       Adam   8047882\n",
              "Inception  39.995853  58.105737  3.0  ...  0.00100       Adam  62061994\n",
              "\n",
              "[3 rows x 8 columns]"
            ]
          },
          "metadata": {
            "tags": []
          },
          "execution_count": 193
        }
      ]
    },
    {
      "cell_type": "code",
      "metadata": {
        "id": "t1bZJc7Byfbn",
        "colab_type": "code",
        "outputId": "5cb1940b-650b-467f-fdb4-3002b3d3fcdc",
        "colab": {
          "base_uri": "https://localhost:8080/",
          "height": 1000
        }
      },
      "source": [
        "\n",
        "#........................ ROC Plots ..............................................\n",
        "met.ROC(Y_test.ravel(), predDense.ravel())\n",
        "met.ROC(Y_test.ravel(), predMobile.ravel())\n",
        "met.ROC(Y_test.ravel(), predInception.ravel())\n",
        "\n",
        "\n",
        "\n",
        "#==========================================\n",
        "\n",
        "plt.subplot('241')\n",
        "plt.imshow(Y_test[60,:,:,0])\n",
        "plt.subplot('242')\n",
        "plt.imshow(Y_test[60,:,:,1])\n",
        "plt.subplot('243')\n",
        "plt.imshow(Y_test[60,:,:,2])\n",
        "plt.subplot('244')\n",
        "plt.imshow(Y_test[60,:,:,3])\n",
        "plt.subplot('245')\n",
        "plt.title('Segmented Image')\n",
        "plt.imshow(pred_merge[60])\n",
        "plt.subplot('246')\n",
        "plt.title('Test Image')\n",
        "plt.imshow(test[60])\n"
      ],
      "execution_count": 197,
      "outputs": [
        {
          "output_type": "display_data",
          "data": {
            "image/png": "[encoded data removed]",
            "text/plain": [
              "<Figure size 432x288 with 1 Axes>"
            ]
          },
          "metadata": {
            "tags": [],
            "needs_background": "light"
          }
        },
        {
          "output_type": "display_data",
          "data": {
            "image/png": "[encoded data removed]",
            "text/plain": [
              "<Figure size 432x288 with 1 Axes>"
            ]
          },
          "metadata": {
            "tags": [],
            "needs_background": "light"
          }
        },
        {
          "output_type": "display_data",
          "data": {
            "image/png": "[encoded data removed]",
            "text/plain": [
              "<Figure size 432x288 with 1 Axes>"
            ]
          },
          "metadata": {
            "tags": [],
            "needs_background": "light"
          }
        },
        {
          "output_type": "execute_result",
          "data": {
            "text/plain": [
              "<matplotlib.image.AxesImage at 0x7f20729600f0>"
            ]
          },
          "metadata": {
            "tags": []
          },
          "execution_count": 197
        },
        {
          "output_type": "display_data",
          "data": {
            "image/png": "[encoded data removed]",
            "text/plain": [
              "<Figure size 432x288 with 6 Axes>"
            ]
          },
          "metadata": {
            "tags": [],
            "needs_background": "light"
          }
        }
      ]
    }
  ]
}